{
 "cells": [
  {
   "cell_type": "code",
   "execution_count": null,
   "id": "5cf27da6",
   "metadata": {},
   "outputs": [],
   "source": [
    "# The print command prints text. \n",
    "\n",
    "print(\"Hello, World!\") # This prints \"Hello, World!\" to the console.\n",
    "print(\"This is a simple Python script.\") # This prints \"This is a simple Python script.\" to the console.\n",
    "\n",
    "# Arithmetic Operations with print.\n",
    "# The following lines perform basic arithmetic operations and print the results.\n",
    "\n",
    "print(2 + 3) # This prints the result of 2 + 3, which is 5.\n",
    "print(5 - 2) # This prints the result of 5 - 2, which is 3.\n",
    "print(4 * 2) # This prints the result of 4 * 2, which is 8.\n",
    "\n",
    "# Notice the lack of quotes around the numbers. Quotes are used for strings, not numbers.\n",
    "# The following two commands produce two different results.\n",
    "\n",
    "print(2 + 3) # This prints the result of 2 + 3, which is 5.\n",
    "print(\"2 + 3\") # This prints the string \"2 + 3\" to the console.\n",
    "\n",
    "# Any line that starts with a # is a comment and is ignored by Python.\n",
    "# Comments are useful for explaining what the code does.\n",
    "# In this program a comment explains the calculation performed in the code:\n",
    "\n",
    "print(\"Hours in a year:\")\n",
    "# there are 365 days in a year and 24 hours in a day\n",
    "print(365 * 24) # This prints the result of 365 * 24, which is 8760."
   ]
  }
 ],
 "metadata": {
  "language_info": {
   "name": "python"
  }
 },
 "nbformat": 4,
 "nbformat_minor": 5
}
