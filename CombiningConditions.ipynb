{
 "cells": [
  {
   "cell_type": "code",
   "execution_count": null,
   "id": "b718f58e",
   "metadata": {},
   "outputs": [],
   "source": [
    "# The following program is a collection of simple Python programs that I wrote to learn the basics of Python.\n",
    "# I am using the Python Programming MOOC 2025 course as a reference and guide. \n",
    "# This ipynb file contains objectives from \"Introduction to Programming Part 2: Combining Conditions\"\n",
    "\n",
    "\n",
    "# The following program asks the user to type in four numbers.\n",
    "# It then works out which of the four is the greatest, with the help of some conditions:\n",
    "\n",
    "n1 = int(input(\"Number 1: \"))\n",
    "n2 = int(input(\"Number 2: \"))\n",
    "n3 = int(input(\"Number 3: \"))\n",
    "n4 = int(input(\"Number 4: \"))\n",
    "\n",
    "if n1 > n2 and n1 > n3 and n1 > n4:\n",
    "    greatest = n1\n",
    "elif n2 > n3 and n2 > n4:\n",
    "    greatest = n2\n",
    "elif n3 > n4:\n",
    "    greatest = n3\n",
    "else:\n",
    "    greatest = n4\n",
    "\n",
    "print(f\"{greatest} is the greatest of the numbers.\")\n",
    "\n",
    "\n",
    "# The following program asks for the user's age.\n",
    "# If the age is below a certain threshold, it will print a message.\n",
    "\n",
    "age = int(input(\"What is your age? \"))\n",
    "\n",
    "if age < 0:\n",
    "    print(\"That must be a mistake\")\n",
    "elif age < 5:\n",
    "    print(\"I suspect you can't write quite yet...\")\n",
    "else:\n",
    "    print(f\"Ok, you're {age} years old\")\n",
    "\n",
    "\n",
    "# The following program asks for the user's name. \n",
    "# If the name is Huey, Dewey, or Louie, the program should recognise the user as one of Donald Duck's nephews.\n",
    "# In a similar fashion, if the name is Morty or Ferdie, the program should recognise the user as one of Mickey Mouse's nephews.\n",
    "\n",
    "name = str(input(\"Please type in your name: \"))\n",
    "\n",
    "if name == \"Huey\" or name == \"Dewey\" or name == \"Louie\":\n",
    "    print(\"I think you might be one of Donald Duck's nephews.\")\n",
    "elif name == \"Morty\" or name == \"Ferdie\":\n",
    "    print(\"I think you might be one of Mickey Mouse's nephews.\")\n",
    "else:\n",
    "    print(\"You're not a nephew of any character I know of.\")\n",
    "\n",
    "\n"
   ]
  }
 ],
 "metadata": {
  "kernelspec": {
   "display_name": "Python 3",
   "language": "python",
   "name": "python3"
  },
  "language_info": {
   "name": "python",
   "version": "3.12.10"
  }
 },
 "nbformat": 4,
 "nbformat_minor": 5
}
