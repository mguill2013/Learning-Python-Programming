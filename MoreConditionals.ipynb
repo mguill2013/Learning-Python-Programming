{
 "cells": [
  {
   "cell_type": "code",
   "execution_count": null,
   "id": "4ab864e4",
   "metadata": {},
   "outputs": [],
   "source": [
    "# The following program is a collection of simple Python programs that I wrote to learn the basics of Python.\n",
    "# I am using the Python Programming MOOC 2025 course as a reference and guide. \n",
    "# This ipynb file contains objectives from \"Introduction to Programming Part 2: More Conditionals\"\n",
    "\n",
    "# The following program checks whether a number given by the user is even or not.\n",
    "# Parity can be checked with the modulo operator %, which produces the remainder of an integer division operation.\n",
    "# When divided by two, if the remainder is zero, the number is even. Otherwise, it is odd.\n",
    "\n",
    "number = int(input(\"Please type in a number: \"))\n",
    "\n",
    "if number % 2 == 0:\n",
    "    print(\"The number is even.\")\n",
    "else:\n",
    "    print(\"The number is odd.\")\n",
    "\n",
    "\n",
    "# Another example:\n",
    "\n",
    "correct = \"kittycat\"\n",
    "password = input(\"Please type in the password: \")\n",
    "\n",
    "if password == correct:\n",
    "    print(\"Welcome!\")\n",
    "else:\n",
    "    print(\"Wrong password!\")\n",
    "\n",
    "\n",
    "# The following program asks the user for their age.\n",
    "# It then prints out a message based on whether the user is of age or not, using 18 as the age of maturity.\n",
    "\n",
    "age = int(input(\"How old are you? \"))\n",
    "\n",
    "if age < 18:\n",
    "    print(\"You are not of age!\")\n",
    "else:\n",
    "    print(\"You are of age!\")"
   ]
  }
 ],
 "metadata": {
  "kernelspec": {
   "display_name": "Python 3",
   "language": "python",
   "name": "python3"
  },
  "language_info": {
   "name": "python",
   "version": "3.12.10"
  }
 },
 "nbformat": 4,
 "nbformat_minor": 5
}
